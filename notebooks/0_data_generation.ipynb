{
  "nbformat": 4,
  "nbformat_minor": 0,
  "metadata": {
    "colab": {
      "provenance": []
    },
    "kernelspec": {
      "name": "python3",
      "display_name": "Python 3"
    },
    "language_info": {
      "name": "python"
    }
  },
  "cells": [
    {
      "cell_type": "markdown",
      "source": [
        "Генерация синтетического датасета производилась ИИ, чтобы он создал структуры и часть инсайтов для работы"
      ],
      "metadata": {
        "id": "GXHgj1RYJtk2"
      }
    },
    {
      "cell_type": "code",
      "execution_count": 1,
      "metadata": {
        "colab": {
          "base_uri": "https://localhost:8080/"
        },
        "id": "ZT9bNugMJXwm",
        "outputId": "c22c19ad-7b6d-4ff5-d265-60385d7ad31f"
      },
      "outputs": [
        {
          "output_type": "stream",
          "name": "stdout",
          "text": [
            "Collecting faker\n",
            "  Downloading faker-37.4.0-py3-none-any.whl.metadata (15 kB)\n",
            "Requirement already satisfied: tzdata in /usr/local/lib/python3.11/dist-packages (from faker) (2025.2)\n",
            "Downloading faker-37.4.0-py3-none-any.whl (1.9 MB)\n",
            "\u001b[2K   \u001b[90m━━━━━━━━━━━━━━━━━━━━━━━━━━━━━━━━━━━━━━━━\u001b[0m \u001b[32m1.9/1.9 MB\u001b[0m \u001b[31m20.6 MB/s\u001b[0m eta \u001b[36m0:00:00\u001b[0m\n",
            "\u001b[?25hInstalling collected packages: faker\n",
            "Successfully installed faker-37.4.0\n"
          ]
        }
      ],
      "source": [
        "!pip install faker"
      ]
    },
    {
      "cell_type": "code",
      "source": [
        "import pandas as pd\n",
        "import numpy as np\n",
        "import random\n",
        "from faker import Faker\n",
        "import uuid"
      ],
      "metadata": {
        "id": "lDH6sr-QJbP0"
      },
      "execution_count": 4,
      "outputs": []
    },
    {
      "cell_type": "code",
      "source": [
        "# Инициализация\n",
        "np.random.seed(42)\n",
        "random.seed(42)\n",
        "fake = Faker(42)\n",
        "\n",
        "n_samples = 600\n",
        "\n",
        "# --- Справочники значений ---\n",
        "transaction_types = ['income', 'expense', 'transfer', 'refund', 'investment']\n",
        "departments = ['Sales', 'Marketing', 'R&D', 'HR', 'Finance', 'IT']\n",
        "vendors = [fake.company() for _ in range(30)]\n",
        "payment_methods = ['card', 'bank_transfer', 'cash', 'crypto']\n",
        "categories = ['salary', 'software', 'hardware', 'services', 'travel', 'training', 'taxes', 'operational']\n",
        "approvers = ['CEO', 'CFO', 'CTO', 'COO', 'HR_Manager']\n",
        "project_codes = ['PRJ_' + str(i).zfill(3) for i in range(1, 21)]\n",
        "\n",
        "# --- Дата ---\n",
        "date_range = pd.date_range(start=\"2021-01-01\", end=\"2024-06-01\", freq='D')\n",
        "dates = np.random.choice(date_range, size=n_samples)\n",
        "\n",
        "# --- Сбор транзакций ---\n",
        "data = {\n",
        "    \"Transaction_ID\": [str(uuid.uuid4()) for _ in range(n_samples)],\n",
        "    \"Date\": dates,\n",
        "    \"Transaction_Type\": np.random.choice(transaction_types, size=n_samples, p=[0.25, 0.55, 0.08, 0.07, 0.05]),\n",
        "    \"Department\": np.random.choice(departments, size=n_samples, p=[0.2, 0.2, 0.15, 0.15, 0.15, 0.15]),\n",
        "    \"Vendor\": np.random.choice(vendors, size=n_samples),\n",
        "    \"Payment_Method\": np.random.choice(payment_methods, size=n_samples, p=[0.3, 0.5, 0.1, 0.1]),\n",
        "    \"Category\": np.random.choice(categories, size=n_samples),\n",
        "    \"Approved_by\": np.random.choice(approvers, size=n_samples),\n",
        "    \"Recurring\": np.random.choice([True, False], size=n_samples, p=[0.25, 0.75]),\n",
        "    \"Project_Code\": np.random.choice(project_codes, size=n_samples)\n",
        "}\n",
        "\n",
        "df = pd.DataFrame(data)\n",
        "\n",
        "# --- Генерация суммы ---\n",
        "def generate_amount(ttype):\n",
        "    if ttype == 'income':\n",
        "        return round(np.random.normal(10000, 3000), 2)\n",
        "    elif ttype == 'expense':\n",
        "        return round(np.random.normal(-5000, 2000), 2)\n",
        "    elif ttype == 'transfer':\n",
        "        return round(np.random.normal(-1000, 500), 2)\n",
        "    elif ttype == 'refund':\n",
        "        return round(np.random.normal(500, 200), 2)\n",
        "    elif ttype == 'investment':\n",
        "        return round(np.random.normal(-15000, 5000), 2)\n",
        "    return 0\n",
        "\n",
        "df['Amount'] = df['Transaction_Type'].apply(generate_amount)\n",
        "\n",
        "# --- Добавим фрод ---\n",
        "df['Is_Fraudulent'] = False\n",
        "\n",
        "# Кандидаты в фрод: подозрительные категории + crypto/cash + большие суммы\n",
        "fraud_candidates = df[\n",
        "    (df['Payment_Method'].isin(['crypto', 'cash'])) &\n",
        "    (df['Amount'] < -3000) &\n",
        "    (df['Category'].isin(['travel', 'training', 'hardware'])) &\n",
        "    (df['Approved_by'].isin(['HR_Manager', 'COO']))\n",
        "]\n",
        "\n",
        "# Гарантируем минимум 35 фродов\n",
        "n_frauds = max(35, int(n_samples * 0.07))\n",
        "if len(fraud_candidates) >= n_frauds:\n",
        "    fraud_indices = fraud_candidates.sample(n=n_frauds, random_state=42).index\n",
        "else:\n",
        "    # Если недостаточно по фильтру — заполним остальное случайными suspicious транзакциями\n",
        "    additional_needed = n_frauds - len(fraud_candidates)\n",
        "    other_candidates = df[\n",
        "        (df['Amount'] < -4000) &\n",
        "        (df['Payment_Method'].isin(['cash', 'crypto'])) &\n",
        "        (~df.index.isin(fraud_candidates.index))\n",
        "    ].sample(n=additional_needed, random_state=43, replace=False).index\n",
        "\n",
        "    fraud_indices = fraud_candidates.index.union(other_candidates)\n",
        "\n",
        "df.loc[fraud_indices, 'Is_Fraudulent'] = True\n",
        "\n",
        "# --- Добавим аномального вендора (инсайт) ---\n",
        "high_freq_vendor = random.choice(vendors)\n",
        "df.loc[df.sample(frac=0.1, random_state=1).index, 'Vendor'] = high_freq_vendor\n",
        "\n",
        "# --- Добавим немного пропусков (NaNs) ---\n",
        "def insert_nans(df, column, frac=0.02):\n",
        "    n_missing = int(len(df) * frac)\n",
        "    missing_indices = np.random.choice(df.index, size=n_missing, replace=False)\n",
        "    df.loc[missing_indices, column] = np.nan\n",
        "\n",
        "# В какие колонки добавим NaNs\n",
        "columns_with_nans = ['Vendor', 'Approved_by', 'Category', 'Project_Code']\n",
        "for col in columns_with_nans:\n",
        "    insert_nans(df, col, frac=0.02)\n",
        "\n",
        "# --- Перемешаем строки для рандомизации ---\n",
        "df = df.sample(frac=1, random_state=42).reset_index(drop=True)\n",
        "\n",
        "# --- Сохраняем ---\n",
        "df.to_csv(\"synthetic_financial_transactions.csv\", index=False)"
      ],
      "metadata": {
        "id": "FkZhdhmzJZAv"
      },
      "execution_count": 5,
      "outputs": []
    }
  ]
}